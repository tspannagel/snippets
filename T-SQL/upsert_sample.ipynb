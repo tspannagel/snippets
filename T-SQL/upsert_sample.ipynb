{
    "metadata": {
        "kernelspec": {
            "name": "SQL",
            "display_name": "SQL",
            "language": "sql"
        },
        "language_info": {
            "name": "sql",
            "version": ""
        }
    },
    "nbformat_minor": 2,
    "nbformat": 4,
    "cells": [
        {
            "cell_type": "markdown",
            "source": [
                "# Create Tables\n",
                "\n",
                "Create tables for stage, core and \"lake\" layer"
            ],
            "metadata": {
                "language": "sql",
                "azdata_cell_guid": "9b4ce14f-bd99-4b03-9175-2dff67ea5ff2"
            },
            "attachments": {}
        },
        {
            "cell_type": "code",
            "source": [
                "CREATE TABLE #lake_countries (\r\n",
                "    country_code VARCHAR(2),\r\n",
                "    country_name VARCHAR(25),\r\n",
                "    hist_updated DATETIME2\r\n",
                ")\r\n",
                "GO\r\n",
                "\r\n",
                "\r\n",
                "CREATE TABLE #lake_busi_part (\r\n",
                "    bp_number INT,\r\n",
                "    bp_name VARCHAR(25),\r\n",
                "    bp_country VARCHAR(2),\r\n",
                "    hist_updated DATETIME2\r\n",
                ")"
            ],
            "metadata": {
                "language": "sql",
                "azdata_cell_guid": "07e7a6b2-4a0b-48e5-a057-8ac1e71d034b"
            },
            "outputs": [],
            "execution_count": null
        },
        {
            "cell_type": "code",
            "source": [
                "CREATE TABLE #stage_countries (\n",
                "    country_code VARCHAR(2),\n",
                "    country_name VARCHAR(25)\n",
                ");\n",
                "CREATE TABLE #stage_busi_part(\n",
                "    bp_number INT,\n",
                "    bp_name VARCHAR(25),\n",
                "    bp_country VARCHAR(2)\n",
                ");"
            ],
            "metadata": {
                "azdata_cell_guid": "d3dc5f14-a9ef-410a-9aa2-fc3491555fdb",
                "language": "sql",
                "tags": []
            },
            "outputs": [],
            "execution_count": null
        },
        {
            "cell_type": "code",
            "source": [
                "CREATE TABLE #core_busi_part(\n",
                "    busi_part_id INT IDENTITY(1000,1),\n",
                "    bp_number INT,\n",
                "    bp_name VARCHAR(25),\n",
                "    country_id INT,\n",
                "    date_updated DATETIME2\n",
                ")\n",
                "CREATE TABLE #core_countries(\n",
                "    country_id INT IDENTITY(1000,1),\n",
                "    country_code VARCHAR(2),\n",
                "    country_name VARCHAR(25),\n",
                "    date_updated DATETIME2\n",
                ")"
            ],
            "metadata": {
                "language": "sql",
                "azdata_cell_guid": "d6b62096-9373-4916-92c1-7cda108f7fba",
                "tags": []
            },
            "outputs": [],
            "execution_count": null
        },
        {
            "cell_type": "markdown",
            "source": [
                "# Create Stored Procedures"
            ],
            "metadata": {
                "language": "sql",
                "azdata_cell_guid": "50938009-b493-45e9-92bb-8c3b50404a96"
            },
            "attachments": {}
        },
        {
            "cell_type": "code",
            "source": [
                "CREATE PROCEDURE uspMergeCountries @date DATETIME2 AS \r\n",
                "MERGE #core_countries tgt \r\n",
                "USING #stage_countries src on tgt.country_code = src.country_code \r\n",
                "WHEN MATCHED THEN \r\n",
                "    UPDATE \r\n",
                "    SET tgt.country_name = src.country_name, tgt.date_updated = @date\r\n",
                "WHEN NOT MATCHED BY TARGET THEN \r\n",
                "    INSERT  (country_code, country_name, date_updated) \r\n",
                "    VALUES (src.country_code, src.country_name, @date);\r\n",
                ""
            ],
            "metadata": {
                "language": "sql",
                "azdata_cell_guid": "4f0dbf98-303a-4bf1-b6db-e2ff15f39416"
            },
            "outputs": [],
            "execution_count": null
        },
        {
            "cell_type": "code",
            "source": [
                "CREATE PROCEDURE uspMergeBusiPart @date DATETIME2 AS \r\n",
                "MERGE #core_busi_part tgt \r\n",
                "USING (\r\n",
                "    SELECT sbp.bp_number, sbp.bp_name, cc.country_id FROM #stage_busi_part sbp \r\n",
                "    LEFT JOIN #core_countries cc ON cc.country_code = sbp.bp_country /* join with core countires to get surrogate id */\r\n",
                "    ) src \r\n",
                "ON tgt.bp_number = src.bp_number\r\n",
                "WHEN MATCHED THEN UPDATE SET tgt.bp_name = src.bp_name, tgt.country_id = src.country_id, tgt.date_updated = @date\r\n",
                "WHEN NOT MATCHED BY TARGET THEN INSERT (bp_number, bp_name, country_id, date_updated) \r\n",
                "VALUES (src.bp_number,src.bp_name, src.country_id, @date);\r\n",
                ""
            ],
            "metadata": {
                "language": "sql",
                "azdata_cell_guid": "11e040fe-a011-4456-a50a-b5eb9e40fa80"
            },
            "outputs": [],
            "execution_count": null
        },
        {
            "cell_type": "markdown",
            "source": [
                "## First ingestion\r\n",
                "\r\n",
                "In this cell the ingestion of dat on the 16.08.2023 is simulated"
            ],
            "metadata": {
                "language": "sql",
                "azdata_cell_guid": "bfc3a4d3-9b5a-4fd6-9da5-dc3764d503e9"
            },
            "attachments": {}
        },
        {
            "cell_type": "code",
            "source": [
                "INSERT INTO #lake_countries \r\n",
                "    SELECT 'DE' as country_code, 'Deutschland' AS country_name, CAST('2023-08-16' AS DATETIME2) AS hist_updated\r\n",
                "    UNION\r\n",
                "    SELECT 'IT', 'Italien', CAST('2023-08-16' AS DATETIME2) \r\n",
                "\r\n",
                "GO\r\n",
                "INSERT INTO #lake_busi_part \r\n",
                "    SELECT 4711 as bp_number, 'drfalk' as bp_name, 'FR' as bp_country, CAST('2023-08-16' AS DATETIME2) AS hist_updated\r\n",
                "    UNION\r\n",
                "    SELECT 4712,'falkdr', 'DE', CAST('2023-08-16' AS DATETIME2)    \r\n",
                ""
            ],
            "metadata": {
                "azdata_cell_guid": "2e0e6294-abd1-4310-8dfe-7f16c8c29fe7",
                "language": "sql"
            },
            "outputs": [],
            "execution_count": null
        },
        {
            "cell_type": "markdown",
            "source": [
                "Ingest delta from Lake to stage"
            ],
            "metadata": {
                "language": "sql",
                "azdata_cell_guid": "c6c1b809-3892-490d-b326-6fe9cdc93b17"
            },
            "attachments": {}
        },
        {
            "cell_type": "code",
            "source": [
                "TRUNCATE TABLE #stage_countries\n",
                "GO\n",
                "\n",
                "INSERT INTO #stage_countries\n",
                "SELECT lc.country_code, lc.country_name \n",
                "FROM #lake_countries lc\n",
                "WHERE lc.hist_updated >= CAST('2023-08-16' AS DATETIME2) /* records that have been inserted/updated \"today\". no foreign keys in core */\n",
                "GO\n",
                "SELECT * FROM #stage_countries"
            ],
            "metadata": {
                "language": "sql",
                "azdata_cell_guid": "13eea63b-3e15-43e2-8686-f1c004fc917e"
            },
            "outputs": [],
            "execution_count": null
        },
        {
            "cell_type": "code",
            "source": [
                "TRUNCATE TABLE #stage_busi_part\n",
                "GO\n",
                "\n",
                "INSERT INTO #stage_busi_part\n",
                "SELECT lb.bp_number, lb.bp_name, bp_country \n",
                "FROM #lake_busi_part lb \n",
                "LEFT JOIN #core_countries cc ON lb.bp_country = cc.country_code\n",
                "WHERE lb.hist_updated >= CAST('2023-08-16' AS DATETIME2)  /* records that have been inserted/updated \"today\" */\n",
                "OR (lb.bp_number IN (SELECT bp_number FROM #core_busi_part cb WHERE cb.country_id IS NULL) /* or records that are older but have no foreign key yet */\n",
                "    AND lb.hist_updated < CAST('2023-08-16' AS DATETIME2))\n",
                "\n",
                "SELECT * FROM #stage_busi_part\n",
                ""
            ],
            "metadata": {
                "language": "sql",
                "azdata_cell_guid": "ac624dd8-36b9-41c4-90fb-7a8669f09717"
            },
            "outputs": [],
            "execution_count": null
        },
        {
            "cell_type": "markdown",
            "source": [
                "# Upsert\n",
                "\n",
                "Merge Core Entities. \n",
                "\n",
                "In this step, order of merge executes is relevant"
            ],
            "metadata": {
                "language": "sql",
                "azdata_cell_guid": "915646fd-ab50-4262-87c4-04d7e85e24a3"
            },
            "attachments": {}
        },
        {
            "cell_type": "code",
            "source": [
                "\n",
                "EXEC uspMergeCountries @date ='2023-08-16';\n",
                "\n",
                "SELECT * FROM #core_countries\n",
                ""
            ],
            "metadata": {
                "language": "sql",
                "azdata_cell_guid": "46955668-0108-41ca-9f70-816b58a6ae95"
            },
            "outputs": [],
            "execution_count": null
        },
        {
            "cell_type": "code",
            "source": [
                ""
            ],
            "metadata": {
                "language": "sql",
                "azdata_cell_guid": "24a02870-14e1-4345-ba75-a260bf446eb3"
            },
            "outputs": [],
            "execution_count": null
        },
        {
            "cell_type": "code",
            "source": [
                "EXEC uspMergeBusiPart @date = '2023-08-16';\r\n",
                "\r\n",
                "SELECT * FROM #core_busi_part\r\n",
                ""
            ],
            "metadata": {
                "language": "sql",
                "azdata_cell_guid": "454a3609-1796-4c57-a0eb-99d88ed69729"
            },
            "outputs": [],
            "execution_count": null
        },
        {
            "cell_type": "markdown",
            "source": [
                "# Next day\n",
                "\n",
                "Insert into lake"
            ],
            "metadata": {
                "language": "sql",
                "azdata_cell_guid": "42cc47cd-cd1a-4a1f-865e-806b7e55f8a9"
            },
            "attachments": {}
        },
        {
            "cell_type": "code",
            "source": [
                "INSERT INTO #lake_countries SELECT 'FR', 'Frankreich', CAST('2023-08-17' AS DATETIME2) \r\n",
                "GO\r\n",
                "INSERT INTO #lake_busi_part SELECT 4713,'prof_falk', 'DE', CAST('2023-08-17' AS DATETIME2)    \r\n",
                "GO"
            ],
            "metadata": {
                "language": "sql",
                "azdata_cell_guid": "36f79efa-4149-4778-9bbd-f8b594f729d6",
                "tags": [
                    "hide_input"
                ]
            },
            "outputs": [],
            "execution_count": null
        },
        {
            "cell_type": "markdown",
            "source": [
                "# Ingest delta into stage\r\n",
                ""
            ],
            "metadata": {
                "language": "sql",
                "azdata_cell_guid": "62d1457e-5eb1-4151-816a-16f331fc6330"
            },
            "attachments": {}
        },
        {
            "cell_type": "code",
            "source": [
                "TRUNCATE TABLE #stage_countries\r\n",
                "GO\r\n",
                "\r\n",
                "INSERT INTO #stage_countries\r\n",
                "SELECT lc.country_code, lc.country_name \r\n",
                "FROM #lake_countries lc\r\n",
                "WHERE lc.hist_updated >= CAST('2023-08-17' AS DATETIME2) /* records that have been inserted/updated \"today\". no foreign keys in core */\r\n",
                "GO\r\n",
                "SELECT * FROM #stage_countries"
            ],
            "metadata": {
                "language": "sql",
                "azdata_cell_guid": "67a1b5de-3f02-43b4-b571-341367a055e3"
            },
            "outputs": [],
            "execution_count": null
        },
        {
            "cell_type": "code",
            "source": [
                "TRUNCATE TABLE #stage_busi_part\r\n",
                "GO\r\n",
                "\r\n",
                "INSERT INTO #stage_busi_part\r\n",
                "SELECT lb.bp_number, lb.bp_name, bp_country \r\n",
                "FROM #lake_busi_part lb \r\n",
                "LEFT JOIN #core_countries cc ON lb.bp_country = cc.country_code\r\n",
                "WHERE lb.hist_updated >= CAST('2023-08-16' AS DATETIME2)  /* records that have been inserted/updated \"today\" */\r\n",
                "OR (lb.bp_number IN (SELECT bp_number FROM #core_busi_part cb WHERE cb.country_id IS NULL) /* or records that are older but have no foreign key yet */\r\n",
                "    AND lb.hist_updated < CAST('2023-08-16' AS DATETIME2))\r\n",
                "\r\n",
                "SELECT * FROM #stage_busi_part\r\n",
                ""
            ],
            "metadata": {
                "language": "sql",
                "azdata_cell_guid": "b9ce4576-438b-4348-af2e-829e95e2fb30"
            },
            "outputs": [],
            "execution_count": null
        },
        {
            "cell_type": "markdown",
            "source": [
                "# Upsert"
            ],
            "metadata": {
                "language": "sql",
                "azdata_cell_guid": "c51803ca-5452-48fb-9234-d7f3ad0a19d2"
            },
            "attachments": {}
        },
        {
            "cell_type": "code",
            "source": [
                "EXEC uspMergeCountries @date = '2023-08-17';\r\n",
                "\r\n",
                "SELECT * FROM #core_countries"
            ],
            "metadata": {
                "language": "sql",
                "azdata_cell_guid": "6501064a-6f9e-4168-b052-f9dd98445c7e"
            },
            "outputs": [],
            "execution_count": null
        },
        {
            "cell_type": "code",
            "source": [
                "EXEC uspMergeBusiPart @date = '2023-08-17';\r\n",
                "\r\n",
                "SELECT * FROM #core_busi_part\r\n",
                ""
            ],
            "metadata": {
                "language": "sql",
                "azdata_cell_guid": "d628c367-8811-4fd8-bfd7-a1ab6577d67e"
            },
            "outputs": [],
            "execution_count": null
        },
        {
            "cell_type": "markdown",
            "source": [
                "# Cleanup\r\n",
                ""
            ],
            "metadata": {
                "language": "sql",
                "azdata_cell_guid": "5859f119-16e0-408e-b007-97189c4f52ce"
            },
            "attachments": {}
        },
        {
            "cell_type": "code",
            "source": [
                "DROP TABLE #stage_countries\r\n",
                "DROP TABLE #stage_busi_part\r\n",
                "DROP TABLE #core_countries\r\n",
                "DROP TABLE #core_busi_part\r\n",
                "DROP TABLE #lake_countries\r\n",
                "DROP TABLE #lake_busi_part\r\n",
                "DROP PROCEDURE uspMergeCountries\r\n",
                "DROP PROCEDURE uspMergeBusiPart"
            ],
            "metadata": {
                "language": "sql",
                "azdata_cell_guid": "374a443b-8236-4880-a8cd-813ef65b52b1"
            },
            "outputs": [],
            "execution_count": null
        }
    ]
}